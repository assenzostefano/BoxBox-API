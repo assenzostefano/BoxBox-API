{
 "cells": [
  {
   "cell_type": "code",
   "execution_count": null,
   "outputs": [],
   "source": [
    "from src.scripts.general.wikipedia_data import wikipedia_data\n",
    "from src.scripts.general.ergast import Ergast\n",
    "\n",
    "import fastf1\n",
    "\n",
    "year = int('1972')\n",
    "driver_data = []\n",
    "identifier = 'FP2'\n",
    "session = fastf1.get_session(year, 1, 'FP2')\n",
    "session.load()\n",
    "for i in session.drivers:\n",
    "    driver = session.get_driver(i)\n",
    "    ergast_data = Ergast.drivers_data(driverID=driver.DriverId)\n",
    "    driver_data.append({\n",
    "        \"_id\": driver.DriverId,\n",
    "        \"DriverID\": driver.DriverId,\n",
    "        \"BroadcastName\": driver.BroadcastName,\n",
    "        \"FullName\": driver.FullName,\n",
    "        \"FirstName\": driver.FirstName,\n",
    "        \"LastName\": driver.LastName,\n",
    "        \"Abbreviation\": driver.Abbreviation,\n",
    "        \"CountryCode\": driver.CountryCode,\n",
    "        \"BirthDate\": ergast_data['dateOfBirth'],\n",
    "        \"HeadshotUrl\": driver.HeadshotUrl,\n",
    "        \"Wikipedia Data\": wikipedia_data(url_wikipedia=ergast_data['url']),\n",
    "        \"Years\": {\n",
    "            str(year) + \"-\" + identifier: {\n",
    "                \"TeamName\": driver.TeamName,\n",
    "                \"TeamId\": driver.TeamId,\n",
    "                \"TeamColor\": driver.TeamColor,\n",
    "        }\n",
    "    }})\n",
    "\n",
    "print(driver_data)"
   ],
   "metadata": {
    "collapsed": false
   },
   "id": "78775c1fc344da60"
  },
  {
   "cell_type": "code",
   "execution_count": null,
   "outputs": [],
   "source": [
    "import requests\n",
    "\n",
    "while True:\n",
    "    driverID = \"hamilton\"\n",
    "    url = 'https://ergast.com/api/f1/drivers/' + driverID + '.json'\n",
    "    url = requests.get(url)\n",
    "    url = url.json()\n",
    "    url = url['MRData']['DriverTable']['Drivers'][0]\n",
    "    \n",
    "    print(url)"
   ],
   "metadata": {
    "collapsed": false
   },
   "id": "57586341907314d2"
  }
 ],
 "metadata": {
  "kernelspec": {
   "display_name": "Python 3",
   "language": "python",
   "name": "python3"
  },
  "language_info": {
   "codemirror_mode": {
    "name": "ipython",
    "version": 2
   },
   "file_extension": ".py",
   "mimetype": "text/x-python",
   "name": "python",
   "nbconvert_exporter": "python",
   "pygments_lexer": "ipython2",
   "version": "2.7.6"
  }
 },
 "nbformat": 4,
 "nbformat_minor": 5
}
