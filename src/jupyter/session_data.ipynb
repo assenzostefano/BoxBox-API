{
 "cells": [
  {
   "cell_type": "markdown",
   "source": [
    "# Session data\n",
    "\n",
    "I take all the information that FastF1 can give me, first of all I load the data"
   ],
   "metadata": {
    "collapsed": false
   },
   "id": "26ee07c7ab9c4e64"
  },
  {
   "cell_type": "code",
   "execution_count": 2,
   "outputs": [
    {
     "name": "stderr",
     "output_type": "stream",
     "text": [
      "core           INFO \tLoading data for Brazilian Grand Prix - Practice 1 [v3.1.4]\n",
      "req            INFO \tNo cached data found for session_info. Loading data...\n",
      "_api           INFO \tFetching session info data...\n",
      "logger      WARNING \tFailed to load session info data!\n",
      "core        WARNING \tCannot load laps, telemetry, weather, and message data because the relevant API is not supported for this session.\n",
      "core           INFO \tFinished loading data for 30 drivers: ['1', '28', '27', '2', '5', '20', '4', '3', '23', '19', '25', '26', '6', '21', '10', '12', '8', '24', '18', '11', '30', '9', '7', '29', '14', '22', '35', '36', '16', '15']\n"
     ]
    }
   ],
   "source": [
    "from matplotlib import pyplot as plt\n",
    "import fastf1\n",
    "import fastf1.plotting\n",
    "from fastf1.ergast import Ergast\n",
    "import pytz\n",
    "from datetime import datetime\n",
    "\n",
    "cache_directory = \"/home/stefano/Documenti/GitHub/RapidF1/cache\"\n",
    "\n",
    "fastf1.Cache.enable_cache(cache_directory)\n",
    "\n",
    "year = int('1990')\n",
    "test = 2\n",
    "session = fastf1.get_session(year, int(test), 'FP1')\n",
    "session.load(weather=True, telemetry=True, messages=True, laps=True)"
   ],
   "metadata": {
    "collapsed": false,
    "ExecuteTime": {
     "end_time": "2023-11-11T11:49:09.785392127Z",
     "start_time": "2023-11-11T11:49:07.150577901Z"
    }
   },
   "id": "10cab600b3841939"
  },
  {
   "cell_type": "code",
   "execution_count": 3,
   "outputs": [
    {
     "name": "stdout",
     "output_type": "stream",
     "text": [
      "Latitude: 25.9581\n",
      "Longitude: -80.2389\n",
      "Locality: Miami\n",
      "Country: USA\n"
     ]
    }
   ],
   "source": [
    "year = session.date.year # Year of session\n",
    "date = session.date # Date of session e.g 2022-05-08 19:30:00\n",
    "circuit_name = session.event['EventName'] # Name of circuit e.g Miami Grand Prix\n",
    "api = Ergast()\n",
    "latitude = api.get_circuits(season=\"2023\", round=5 ,result_type='raw', auto_cast=False)[0]['Location']['lat'] # Latitude of circuite\n",
    "longitude = api.get_circuits(season=\"2023\", round=5 ,result_type='raw', auto_cast=False)[0]['Location']['long'] # Longitude of circuite\n",
    "locality = api.get_circuits(season=\"2023\", round=5 ,result_type='raw', auto_cast=False)[0]['Location']['locality'] # Locality of circuite\n",
    "country = api.get_circuits(season=\"2023\", round=5 ,result_type='raw', auto_cast=False)[0]['Location']['country'] # Country of circuite\n",
    "# https://docs.fastf1.dev/core.html#results\n",
    "print(\"Latitude: \" + latitude)\n",
    "print(\"Longitude: \" + longitude)\n",
    "print(\"Locality: \" + locality)\n",
    "print(\"Country: \" + country)"
   ],
   "metadata": {
    "collapsed": false,
    "ExecuteTime": {
     "end_time": "2023-11-10T17:03:12.110192593Z",
     "start_time": "2023-11-10T17:03:11.684291895Z"
    }
   },
   "id": "9e5095dda7c5ac4b"
  },
  {
   "cell_type": "code",
   "execution_count": 4,
   "outputs": [
    {
     "ename": "DataNotLoadedError",
     "evalue": "The data you are trying to access has not been loaded yet. See `Session.load`",
     "output_type": "error",
     "traceback": [
      "\u001B[0;31m---------------------------------------------------------------------------\u001B[0m",
      "\u001B[0;31mDataNotLoadedError\u001B[0m                        Traceback (most recent call last)",
      "Cell \u001B[0;32mIn[4], line 1\u001B[0m\n\u001B[0;32m----> 1\u001B[0m start_time_session \u001B[38;5;241m=\u001B[39m \u001B[43msession\u001B[49m\u001B[38;5;241;43m.\u001B[39;49m\u001B[43mt0_date\u001B[49m \u001B[38;5;66;03m# Start time of session\u001B[39;00m\n\u001B[1;32m      2\u001B[0m start_time_session \u001B[38;5;241m=\u001B[39m start_time_session\u001B[38;5;241m.\u001B[39mtz_localize(\u001B[38;5;124m'\u001B[39m\u001B[38;5;124mUTC\u001B[39m\u001B[38;5;124m'\u001B[39m)\u001B[38;5;241m.\u001B[39mtz_convert(\u001B[38;5;124m'\u001B[39m\u001B[38;5;124mEurope/Rome\u001B[39m\u001B[38;5;124m'\u001B[39m)\n\u001B[1;32m      4\u001B[0m \u001B[38;5;66;03m# Estrai l'orario\u001B[39;00m\n",
      "File \u001B[0;32m~/Documenti/GitHub/RapidF1/venv/lib/python3.10/site-packages/fastf1/core.py:1191\u001B[0m, in \u001B[0;36mSession.t0_date\u001B[0;34m(self)\u001B[0m\n\u001B[1;32m   1184\u001B[0m \u001B[38;5;129m@property\u001B[39m\n\u001B[1;32m   1185\u001B[0m \u001B[38;5;28;01mdef\u001B[39;00m \u001B[38;5;21mt0_date\u001B[39m(\u001B[38;5;28mself\u001B[39m):\n\u001B[1;32m   1186\u001B[0m \u001B[38;5;250m    \u001B[39m\u001B[38;5;124;03m\"\"\":class:`pandas.Datetime`: Date timestamp which marks the beginning\u001B[39;00m\n\u001B[1;32m   1187\u001B[0m \u001B[38;5;124;03m    of the data stream (the moment at which the session time is zero).\u001B[39;00m\n\u001B[1;32m   1188\u001B[0m \n\u001B[1;32m   1189\u001B[0m \u001B[38;5;124;03m    Data is available after calling `Session.load` with ``telemetry=True``\u001B[39;00m\n\u001B[1;32m   1190\u001B[0m \u001B[38;5;124;03m    \"\"\"\u001B[39;00m\n\u001B[0;32m-> 1191\u001B[0m     \u001B[38;5;28;01mreturn\u001B[39;00m \u001B[38;5;28;43mself\u001B[39;49m\u001B[38;5;241;43m.\u001B[39;49m\u001B[43m_get_property_warn_not_loaded\u001B[49m\u001B[43m(\u001B[49m\u001B[38;5;124;43m'\u001B[39;49m\u001B[38;5;124;43m_t0_date\u001B[39;49m\u001B[38;5;124;43m'\u001B[39;49m\u001B[43m)\u001B[49m\n",
      "File \u001B[0;32m~/Documenti/GitHub/RapidF1/venv/lib/python3.10/site-packages/fastf1/core.py:1066\u001B[0m, in \u001B[0;36mSession._get_property_warn_not_loaded\u001B[0;34m(self, name)\u001B[0m\n\u001B[1;32m   1064\u001B[0m \u001B[38;5;28;01mdef\u001B[39;00m \u001B[38;5;21m_get_property_warn_not_loaded\u001B[39m(\u001B[38;5;28mself\u001B[39m, name):\n\u001B[1;32m   1065\u001B[0m     \u001B[38;5;28;01mif\u001B[39;00m \u001B[38;5;129;01mnot\u001B[39;00m \u001B[38;5;28mhasattr\u001B[39m(\u001B[38;5;28mself\u001B[39m, name):\n\u001B[0;32m-> 1066\u001B[0m         \u001B[38;5;28;01mraise\u001B[39;00m DataNotLoadedError(\u001B[38;5;124m\"\u001B[39m\u001B[38;5;124mThe data you are trying to access has not \u001B[39m\u001B[38;5;124m\"\u001B[39m\n\u001B[1;32m   1067\u001B[0m                                  \u001B[38;5;124m\"\u001B[39m\u001B[38;5;124mbeen loaded yet. See `Session.load`\u001B[39m\u001B[38;5;124m\"\u001B[39m)\n\u001B[1;32m   1068\u001B[0m     \u001B[38;5;28;01mreturn\u001B[39;00m \u001B[38;5;28mgetattr\u001B[39m(\u001B[38;5;28mself\u001B[39m, name, \u001B[38;5;28;01mNone\u001B[39;00m)\n",
      "\u001B[0;31mDataNotLoadedError\u001B[0m: The data you are trying to access has not been loaded yet. See `Session.load`"
     ]
    }
   ],
   "source": [
    "start_time_session = session.t0_date # Start time of session\n",
    "start_time_session = start_time_session.tz_localize('UTC').tz_convert('Europe/Rome')\n",
    "\n",
    "# Estrai l'orario\n",
    "start_time_session = start_time_session.strftime(\"%H:%M:%S.%f\")\n",
    "print(\"Start time session: \" + start_time_session)\n"
   ],
   "metadata": {
    "collapsed": false,
    "ExecuteTime": {
     "end_time": "2023-11-10T17:03:12.422551590Z",
     "start_time": "2023-11-10T17:03:12.100561991Z"
    }
   },
   "id": "7a5c14e79fc5d8d6"
  },
  {
   "cell_type": "code",
   "execution_count": null,
   "outputs": [],
   "source": [
    "session_status = session.session_status # Status of session\n",
    "print(\"Session status: \" + str(session_status))"
   ],
   "metadata": {
    "collapsed": false,
    "ExecuteTime": {
     "end_time": "2023-11-10T17:03:12.430759639Z",
     "start_time": "2023-11-10T17:03:12.425516053Z"
    }
   },
   "id": "c82d75de8b563e73"
  },
  {
   "cell_type": "code",
   "execution_count": null,
   "outputs": [],
   "source": [
    "total_laps = session.total_laps # Total laps of session\n",
    "print(\"Total laps: \" + str(total_laps))"
   ],
   "metadata": {
    "collapsed": false,
    "ExecuteTime": {
     "start_time": "2023-11-10T17:03:12.429444288Z"
    }
   },
   "id": "fb45e09ba671f5af"
  },
  {
   "cell_type": "code",
   "execution_count": null,
   "outputs": [],
   "source": [
    "weather = session.weather_data # Weather of session\n",
    "for j in range(0, len(weather)):\n",
    "    weather_time = weather['Time']\n",
    "    weather_air_temp = weather['AirTemp']\n",
    "    weather_track_temp = weather['TrackTemp']\n",
    "    weather_humidity = weather['Humidity']\n",
    "    weather_pressure = weather['Pressure']\n",
    "    weather_wind_speed = weather['WindSpeed']\n",
    "    weather_wind_direction = weather['WindDirection']\n",
    "    weather_rainfall = weather['Rainfall']\n",
    "    print(\"Weather Time\" + str(weather_time[j]))\n",
    "    print(\"AirTemp: \" + str(weather_air_temp[j]))\n",
    "    print(\"TrackTemp: \" + str(weather_track_temp[j]))\n",
    "    print(\"Humidity: \" + str(weather_humidity[j]))\n",
    "    print(\"Pressure: \" + str(weather_pressure[j]))\n",
    "    print(\"WindSpeed: \" + str(weather_wind_speed[j]))\n",
    "    print(\"WindDirection: \" + str(weather_wind_direction[j]))\n",
    "    print(\"Rainfall: \" + str(weather_rainfall[j]))\n",
    "    print(\"------------------------\")"
   ],
   "metadata": {
    "collapsed": false,
    "ExecuteTime": {
     "start_time": "2023-11-10T17:03:12.478968529Z"
    }
   },
   "id": "a5b113ea09eb54bc"
  },
  {
   "cell_type": "code",
   "execution_count": null,
   "outputs": [],
   "source": [
    "track_status = session.track_status # Track status of session\n",
    "for i in range(0, len(track_status)):\n",
    "    track_status_time = track_status['Time']\n",
    "    track_status_status = track_status['Status']\n",
    "    track_status_message = track_status['Message']\n",
    "    print(\"Track status time: \" + str(track_status_time[i]))\n",
    "    print(\"Track status status: \" + str(track_status_status[i]))\n",
    "    print(\"Track status message: \" + str(track_status_message[i]))"
   ],
   "metadata": {
    "collapsed": false,
    "ExecuteTime": {
     "start_time": "2023-11-10T17:03:12.479292225Z"
    }
   },
   "id": "bc1cf5d786e1682e"
  },
  {
   "cell_type": "code",
   "execution_count": 3,
   "outputs": [
    {
     "ename": "DataNotLoadedError",
     "evalue": "The data you are trying to access has not been loaded yet. See `Session.load`",
     "output_type": "error",
     "traceback": [
      "\u001B[0;31m---------------------------------------------------------------------------\u001B[0m",
      "\u001B[0;31mDataNotLoadedError\u001B[0m                        Traceback (most recent call last)",
      "Cell \u001B[0;32mIn[3], line 1\u001B[0m\n\u001B[0;32m----> 1\u001B[0m laps_data \u001B[38;5;241m=\u001B[39m \u001B[43msession\u001B[49m\u001B[38;5;241;43m.\u001B[39;49m\u001B[43mlaps\u001B[49m\n\u001B[1;32m      2\u001B[0m \u001B[38;5;28;01mfor\u001B[39;00m index, row \u001B[38;5;129;01min\u001B[39;00m laps_data\u001B[38;5;241m.\u001B[39miterrows():\n\u001B[1;32m      3\u001B[0m     time \u001B[38;5;241m=\u001B[39m row[\u001B[38;5;124m'\u001B[39m\u001B[38;5;124mTime\u001B[39m\u001B[38;5;124m'\u001B[39m]\n",
      "File \u001B[0;32m~/Documenti/GitHub/RapidF1/venv/lib/python3.10/site-packages/fastf1/core.py:1105\u001B[0m, in \u001B[0;36mSession.laps\u001B[0;34m(self)\u001B[0m\n\u001B[1;32m   1099\u001B[0m \u001B[38;5;129m@property\u001B[39m\n\u001B[1;32m   1100\u001B[0m \u001B[38;5;28;01mdef\u001B[39;00m \u001B[38;5;21mlaps\u001B[39m(\u001B[38;5;28mself\u001B[39m) \u001B[38;5;241m-\u001B[39m\u001B[38;5;241m>\u001B[39m \u001B[38;5;124m\"\u001B[39m\u001B[38;5;124mLaps\u001B[39m\u001B[38;5;124m\"\u001B[39m:\n\u001B[1;32m   1101\u001B[0m \u001B[38;5;250m    \u001B[39m\u001B[38;5;124;03m\"\"\":class:`Laps`: All laps from all drivers driven in this session.\u001B[39;00m\n\u001B[1;32m   1102\u001B[0m \n\u001B[1;32m   1103\u001B[0m \u001B[38;5;124;03m    Data is available after calling `Session.load` with ``laps=True``\u001B[39;00m\n\u001B[1;32m   1104\u001B[0m \u001B[38;5;124;03m    \"\"\"\u001B[39;00m\n\u001B[0;32m-> 1105\u001B[0m     \u001B[38;5;28;01mreturn\u001B[39;00m \u001B[38;5;28;43mself\u001B[39;49m\u001B[38;5;241;43m.\u001B[39;49m\u001B[43m_get_property_warn_not_loaded\u001B[49m\u001B[43m(\u001B[49m\u001B[38;5;124;43m'\u001B[39;49m\u001B[38;5;124;43m_laps\u001B[39;49m\u001B[38;5;124;43m'\u001B[39;49m\u001B[43m)\u001B[49m\n",
      "File \u001B[0;32m~/Documenti/GitHub/RapidF1/venv/lib/python3.10/site-packages/fastf1/core.py:1066\u001B[0m, in \u001B[0;36mSession._get_property_warn_not_loaded\u001B[0;34m(self, name)\u001B[0m\n\u001B[1;32m   1064\u001B[0m \u001B[38;5;28;01mdef\u001B[39;00m \u001B[38;5;21m_get_property_warn_not_loaded\u001B[39m(\u001B[38;5;28mself\u001B[39m, name):\n\u001B[1;32m   1065\u001B[0m     \u001B[38;5;28;01mif\u001B[39;00m \u001B[38;5;129;01mnot\u001B[39;00m \u001B[38;5;28mhasattr\u001B[39m(\u001B[38;5;28mself\u001B[39m, name):\n\u001B[0;32m-> 1066\u001B[0m         \u001B[38;5;28;01mraise\u001B[39;00m DataNotLoadedError(\u001B[38;5;124m\"\u001B[39m\u001B[38;5;124mThe data you are trying to access has not \u001B[39m\u001B[38;5;124m\"\u001B[39m\n\u001B[1;32m   1067\u001B[0m                                  \u001B[38;5;124m\"\u001B[39m\u001B[38;5;124mbeen loaded yet. See `Session.load`\u001B[39m\u001B[38;5;124m\"\u001B[39m)\n\u001B[1;32m   1068\u001B[0m     \u001B[38;5;28;01mreturn\u001B[39;00m \u001B[38;5;28mgetattr\u001B[39m(\u001B[38;5;28mself\u001B[39m, name, \u001B[38;5;28;01mNone\u001B[39;00m)\n",
      "\u001B[0;31mDataNotLoadedError\u001B[0m: The data you are trying to access has not been loaded yet. See `Session.load`"
     ]
    }
   ],
   "source": [
    "laps_data = session.laps\n",
    "for index, row in laps_data.iterrows():\n",
    "    time = row['Time']\n",
    "    driver = row['Driver']\n",
    "    driver_number = row['DriverNumber']\n",
    "    lap_time = row['LapTime']\n",
    "    lap_number = row['LapNumber']\n",
    "    stint = row['Stint']\n",
    "    pit_out_time = row['PitOutTime']\n",
    "    pit_in_time = row['PitInTime']\n",
    "    sector1_time = row['Sector1Time']\n",
    "    sector2_time = row['Sector2Time']\n",
    "    sector3_time = row['Sector3Time']\n",
    "    sector1_session_time = row['Sector1SessionTime']\n",
    "    sector2_session_time = row['Sector2SessionTime']\n",
    "    sector3_session_time = row['Sector3SessionTime']\n",
    "    speedI1 = row['SpeedI1']\n",
    "    speedI2 = row['SpeedI2']\n",
    "    speedFL = row['SpeedFL']\n",
    "    speedST = row['SpeedST']\n",
    "    isPersonalBest = row['IsPersonalBest']\n",
    "    compound = row['Compound']\n",
    "    tyrelife = row['TyreLife']\n",
    "    freshtyre = row['FreshTyre']\n",
    "    team = row['Team']\n",
    "    lap_start_time = row['LapStartTime']\n",
    "    lap_start_date = row['LapStartDate']\n",
    "    track_status = row['TrackStatus']\n",
    "    position = row['Position']\n",
    "    deleted = row['Deleted']\n",
    "    deleted_reason = row['DeletedReason']\n",
    "    fastf1_generated = row['FastF1Generated']\n",
    "    isaccurate = row['IsAccurate']\n",
    "    \n",
    "    print(\"Time: \" + str(time))\n",
    "    print(\"Driver: \" + str(driver))\n",
    "    print(\"DriverNumber: \" + str(driver_number))\n",
    "    print(\"LapTime: \" + str(lap_time))\n",
    "    print(\"LapNumber: \" + str(lap_number))\n",
    "    print(\"Stint: \" + str(stint))\n",
    "    print(\"PitOutTime: \" + str(pit_out_time))\n",
    "    print(\"PitInTime: \" + str(pit_in_time))\n",
    "    print(\"Sector1Time: \" + str(sector1_time))\n",
    "    print(\"Sector2Time: \" + str(sector2_time))\n",
    "    print(\"Sector3Time: \" + str(sector3_time))\n",
    "    print(\"Sector1SessionTime: \" + str(sector1_session_time))\n",
    "    print(\"Sector2SessionTime: \" + str(sector2_session_time))\n",
    "    print(\"Sector3SessionTime: \" + str(sector3_session_time))\n",
    "    print(\"SpeedI1: \" + str(speedI1))\n",
    "    print(\"SpeedI2: \" + str(speedI2))\n",
    "    print(\"SpeedFL: \" + str(speedFL))\n",
    "    print(\"SpeedST: \" + str(speedST))\n",
    "    print(\"IsPersonalBest: \" + str(isPersonalBest))\n",
    "    print(\"Compound: \" + str(compound))\n",
    "    print(\"TyreLife: \" + str(tyrelife))\n",
    "    print(\"FreshTyre: \" + str(freshtyre))\n",
    "    print(\"Team: \" + str(team))\n",
    "    print(\"LapStartTime: \" + str(lap_start_time))\n",
    "    print(\"LapStartDate: \" + str(lap_start_date))\n",
    "    print(\"TrackStatus: \" + str(track_status))\n",
    "    print(\"Position: \" + str(position))\n",
    "    print(\"Deleted: \" + str(deleted))\n",
    "    print(\"DeletedReason: \" + str(deleted_reason))\n",
    "    print(\"FastF1Generated: \" + str(fastf1_generated))\n",
    "    print(\"IsAccurate: \" + str(isaccurate))"
   ],
   "metadata": {
    "collapsed": false,
    "ExecuteTime": {
     "end_time": "2023-11-11T11:49:14.312543169Z",
     "start_time": "2023-11-11T11:49:14.047116667Z"
    }
   },
   "id": "ead6e1b560865e1c"
  },
  {
   "cell_type": "code",
   "execution_count": null,
   "outputs": [],
   "source": [
    "laps = session.laps\n",
    "for index, row in laps.iterrows():\n",
    "    driver = row['Driver']\n",
    "    print(driver)\n",
    "    telemetry = laps.pick_driver(driver)\n",
    "    for i in telemetry.iterlaps():\n",
    "        driver_telemetry = i[1].get_telemetry() # https://docs.fastf1.dev/core.html#fastf1.core.Telemetry\n",
    "        print(driver_telemetry['Speed'])\n",
    "        print(driver_telemetry['nGear'])"
   ],
   "metadata": {
    "collapsed": false,
    "ExecuteTime": {
     "start_time": "2023-11-10T17:03:12.479842908Z"
    }
   },
   "id": "5ca6a4403baa74cf"
  },
  {
   "cell_type": "code",
   "execution_count": null,
   "outputs": [],
   "source": [
    "fast_leclerc = session.laps.pick_driver('LEC').pick_laps(1)\n",
    "lec_car_data = fast_leclerc.get_car_data()\n",
    "\n",
    "print(fast_leclerc['SpeedI1'])\n",
    "t = lec_car_data['Time']\n",
    "vCar = lec_car_data['Speed']\n",
    "rpm = lec_car_data['nGear']\n",
    "\n",
    "# The rest is just plotting\n",
    "fig, ax = plt.subplots()\n",
    "ax.plot(t, rpm, label='Fast')\n",
    "ax.set_xlabel('Time')\n",
    "ax.set_ylabel('Speed [Km/h]')\n",
    "ax.set_title('Leclerc is')\n",
    "ax.legend()\n",
    "plt.show()"
   ],
   "metadata": {
    "collapsed": false,
    "ExecuteTime": {
     "end_time": "2023-11-10T17:03:12.490567141Z",
     "start_time": "2023-11-10T17:03:12.480090415Z"
    }
   },
   "id": "fd4dc6f38f69cd69"
  }
 ],
 "metadata": {
  "kernelspec": {
   "display_name": "Python 3",
   "language": "python",
   "name": "python3"
  },
  "language_info": {
   "codemirror_mode": {
    "name": "ipython",
    "version": 2
   },
   "file_extension": ".py",
   "mimetype": "text/x-python",
   "name": "python",
   "nbconvert_exporter": "python",
   "pygments_lexer": "ipython2",
   "version": "2.7.6"
  }
 },
 "nbformat": 4,
 "nbformat_minor": 5
}
