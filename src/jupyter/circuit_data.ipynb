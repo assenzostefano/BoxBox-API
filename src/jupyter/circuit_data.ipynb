{
 "cells": [
  {
   "cell_type": "code",
   "execution_count": 4,
   "id": "initial_id",
   "metadata": {
    "collapsed": true,
    "ExecuteTime": {
     "end_time": "2023-11-21T18:44:23.277081269Z",
     "start_time": "2023-11-21T18:44:02.373945225Z"
    }
   },
   "outputs": [
    {
     "name": "stderr",
     "output_type": "stream",
     "text": [
      "core           INFO \tLoading data for Las Vegas Grand Prix - Practice 2 [v3.1.4]\n",
      "req            INFO \tNo cached data found for session_info. Loading data...\n",
      "_api           INFO \tFetching session info data...\n",
      "req            INFO \tData has been written to cache!\n",
      "req            INFO \tNo cached data found for driver_info. Loading data...\n",
      "_api           INFO \tFetching driver list...\n",
      "req            INFO \tData has been written to cache!\n",
      "req            INFO \tNo cached data found for session_status_data. Loading data...\n",
      "_api           INFO \tFetching session status data...\n",
      "req            INFO \tData has been written to cache!\n",
      "req            INFO \tNo cached data found for track_status_data. Loading data...\n",
      "_api           INFO \tFetching track status data...\n",
      "req            INFO \tData has been written to cache!\n",
      "req            INFO \tNo cached data found for _extended_timing_data. Loading data...\n",
      "_api           INFO \tFetching timing data...\n",
      "_api           INFO \tParsing timing data...\n",
      "req            INFO \tData has been written to cache!\n",
      "req            INFO \tNo cached data found for timing_app_data. Loading data...\n",
      "_api           INFO \tFetching timing app data...\n",
      "req            INFO \tData has been written to cache!\n",
      "core           INFO \tProcessing timing data...\n",
      "req            INFO \tNo cached data found for car_data. Loading data...\n",
      "_api           INFO \tFetching car data...\n",
      "_api           INFO \tParsing car data...\n",
      "req            INFO \tData has been written to cache!\n",
      "req            INFO \tNo cached data found for position_data. Loading data...\n",
      "_api           INFO \tFetching position data...\n",
      "_api           INFO \tParsing position data...\n",
      "req            INFO \tData has been written to cache!\n",
      "req            INFO \tNo cached data found for weather_data. Loading data...\n",
      "_api           INFO \tFetching weather data...\n",
      "req            INFO \tData has been written to cache!\n",
      "req            INFO \tNo cached data found for race_control_messages. Loading data...\n",
      "_api           INFO \tFetching race control messages...\n",
      "req            INFO \tData has been written to cache!\n",
      "core           INFO \tFinished loading data for 20 drivers: ['1', '10', '11', '14', '16', '18', '2', '20', '22', '23', '24', '27', '3', '31', '4', '44', '55', '63', '77', '81']\n"
     ]
    },
    {
     "name": "stdout",
     "output_type": "stream",
     "text": [
      "              X             Y  Number Letter       Angle     Distance\n",
      "0   2170.451416   -498.191467       1         -40.809866    34.460785\n",
      "1   3637.528076   1142.324219       2         -40.286043   235.532579\n",
      "2   2288.378906   1474.597534       3         134.373183   470.754093\n",
      "3    525.346069   2731.809082       4        -176.085628   767.069784\n",
      "4    362.932373   6553.287109       5        -178.199907  1154.569217\n",
      "5    278.396454   8968.942383       6        -178.024481  1396.366118\n",
      "6   2160.585693  10718.447266       7         -86.326507  1727.930419\n",
      "7   3419.946045  11336.448242       8         -40.275153  1878.867429\n",
      "8   3873.167236  12284.065430       9          -2.901559  1983.027052\n",
      "9   3544.187988  13674.658203      10         -25.590038  2165.713457\n",
      "10   941.940857  14259.900391      11         -89.484492  2468.172538\n",
      "11 -1008.019104  14635.579102      12        -122.751074  2681.685631\n",
      "12 -2149.925049  16319.982422      13        -154.880318  2896.165025\n",
      "13 -3963.857422  17679.730469      14          78.354014  3119.890282\n",
      "14 -6011.673828  15061.046875      15         151.893380  3492.070733\n",
      "15 -7382.440430  11435.985352      16         167.243541  3880.742655\n",
      "16 -7685.049316   6648.995605      17        -179.559532  4355.985630\n",
      "17 -7729.537598   -102.369759      18         179.501374  5045.699555\n",
      "18 -6010.698242  -1716.936279      19         -91.832363  5329.154448\n",
      "19 -3042.035645  -1647.223267      20         -88.872609  5629.264572\n",
      "20  -130.400284  -1629.530762      21         -87.521949  5921.422051\n"
     ]
    }
   ],
   "source": [
    "import fastf1\n",
    "import time\n",
    "\n",
    "session = fastf1.get_session(2023, 21, 'FP2')\n",
    "session.load(laps=True, telemetry=True, weather=True, messages=True)\n",
    "time.sleep(5)\n",
    "\n",
    "circuit_data = session.get_circuit_info()\n",
    "corners = circuit_data.corners\n",
    "marshal_lights = circuit_data.marshal_lights\n",
    "print(marshal_lights)"
   ]
  }
 ],
 "metadata": {
  "kernelspec": {
   "display_name": "Python 3",
   "language": "python",
   "name": "python3"
  },
  "language_info": {
   "codemirror_mode": {
    "name": "ipython",
    "version": 2
   },
   "file_extension": ".py",
   "mimetype": "text/x-python",
   "name": "python",
   "nbconvert_exporter": "python",
   "pygments_lexer": "ipython2",
   "version": "2.7.6"
  }
 },
 "nbformat": 4,
 "nbformat_minor": 5
}
