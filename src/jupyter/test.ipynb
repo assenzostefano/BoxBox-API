{
 "cells": [
  {
   "cell_type": "code",
   "execution_count": 3,
   "id": "initial_id",
   "metadata": {
    "collapsed": true,
    "ExecuteTime": {
     "end_time": "2023-11-12T11:51:49.903081492Z",
     "start_time": "2023-11-12T11:51:49.820680044Z"
    }
   },
   "outputs": [
    {
     "name": "stderr",
     "output_type": "stream",
     "text": [
      "core           INFO \tLoading data for Australian Grand Prix - Race [v3.1.4]\n",
      "req            INFO \tNo cached data found for session_info. Loading data...\n",
      "logger      WARNING \tFailed to load session info data!\n",
      "req            INFO \tNo cached data found for driver_info. Loading data...\n",
      "core        WARNING \tFailed to load extended driver information!\n",
      "req            INFO \tNo cached data found for session_status_data. Loading data...\n",
      "logger      WARNING \tFailed to load session status data!\n",
      "req            INFO \tNo cached data found for lap_count. Loading data...\n",
      "logger      WARNING \tFailed to load total lap count!\n",
      "req            INFO \tNo cached data found for track_status_data. Loading data...\n",
      "logger      WARNING \tFailed to load track status data!\n",
      "req            INFO \tNo cached data found for _extended_timing_data. Loading data...\n",
      "logger      WARNING \tFailed to load timing data!\n",
      "core        WARNING \tFailed to add first lap time from Ergast for drivers: ['44', '7', '5', '20', '33', '8', '27', '3', '55', '14', '2', '11', '31', '18', '77', '9', '10', '16', '35', '28']\n",
      "req            INFO \tNo cached data found for car_data. Loading data...\n",
      "logger      WARNING \tFailed to load telemetry data!\n",
      "req            INFO \tNo cached data found for weather_data. Loading data...\n",
      "logger      WARNING \tFailed to load weather data!\n",
      "req            INFO \tNo cached data found for race_control_messages. Loading data...\n",
      "logger      WARNING \tFailed to load race control messages!\n",
      "core           INFO \tFinished loading data for 20 drivers: ['5', '44', '7', '3', '14', '33', '27', '77', '2', '55', '11', '31', '16', '18', '28', '8', '20', '10', '9', '35']\n"
     ]
    },
    {
     "ename": "DataNotLoadedError",
     "evalue": "The data you are trying to access has not been loaded yet. See `Session.load`",
     "output_type": "error",
     "traceback": [
      "\u001B[0;31m---------------------------------------------------------------------------\u001B[0m",
      "\u001B[0;31mDataNotLoadedError\u001B[0m                        Traceback (most recent call last)",
      "Cell \u001B[0;32mIn[3], line 6\u001B[0m\n\u001B[1;32m      3\u001B[0m session_data \u001B[38;5;241m=\u001B[39m fastf1\u001B[38;5;241m.\u001B[39mget_session(\u001B[38;5;241m2018\u001B[39m, \u001B[38;5;241m1\u001B[39m, \u001B[38;5;124m'\u001B[39m\u001B[38;5;124mR\u001B[39m\u001B[38;5;124m'\u001B[39m)\n\u001B[1;32m      4\u001B[0m session_data\u001B[38;5;241m.\u001B[39mload(laps\u001B[38;5;241m=\u001B[39m\u001B[38;5;28;01mTrue\u001B[39;00m, telemetry\u001B[38;5;241m=\u001B[39m\u001B[38;5;28;01mTrue\u001B[39;00m, weather\u001B[38;5;241m=\u001B[39m\u001B[38;5;28;01mTrue\u001B[39;00m, messages\u001B[38;5;241m=\u001B[39m\u001B[38;5;28;01mTrue\u001B[39;00m, livedata\u001B[38;5;241m=\u001B[39m\u001B[38;5;28;01mTrue\u001B[39;00m)\n\u001B[0;32m----> 6\u001B[0m circuit_data_Data \u001B[38;5;241m=\u001B[39m \u001B[43msession_data\u001B[49m\u001B[38;5;241;43m.\u001B[39;49m\u001B[43mget_circuit_info\u001B[49m\u001B[43m(\u001B[49m\u001B[43m)\u001B[49m\n\u001B[1;32m      7\u001B[0m marshal_lights_data \u001B[38;5;241m=\u001B[39m circuit_data_Data\u001B[38;5;241m.\u001B[39mmarshal_lights\n\u001B[1;32m      8\u001B[0m \u001B[38;5;28mprint\u001B[39m(marshal_lights_data)\n",
      "File \u001B[0;32m~/Documenti/GitHub/RapidF1/venv/lib/python3.10/site-packages/fastf1/core.py:2209\u001B[0m, in \u001B[0;36mSession.get_circuit_info\u001B[0;34m(self)\u001B[0m\n\u001B[1;32m   2198\u001B[0m \u001B[38;5;28;01mdef\u001B[39;00m \u001B[38;5;21mget_circuit_info\u001B[39m(\u001B[38;5;28mself\u001B[39m) \u001B[38;5;241m-\u001B[39m\u001B[38;5;241m>\u001B[39m Optional[CircuitInfo]:\n\u001B[1;32m   2199\u001B[0m \u001B[38;5;250m    \u001B[39m\u001B[38;5;124;03m\"\"\"Returns additional information about the circuit that hosts this\u001B[39;00m\n\u001B[1;32m   2200\u001B[0m \u001B[38;5;124;03m    event.\u001B[39;00m\n\u001B[1;32m   2201\u001B[0m \n\u001B[0;32m   (...)\u001B[0m\n\u001B[1;32m   2207\u001B[0m \u001B[38;5;124;03m    See :class:`~fastf1.mvapi.CircuitInfo` for detailed information.\u001B[39;00m\n\u001B[1;32m   2208\u001B[0m \u001B[38;5;124;03m    \"\"\"\u001B[39;00m\n\u001B[0;32m-> 2209\u001B[0m     circuit_key \u001B[38;5;241m=\u001B[39m \u001B[38;5;28;43mself\u001B[39;49m\u001B[38;5;241;43m.\u001B[39;49m\u001B[43msession_info\u001B[49m[\u001B[38;5;124m'\u001B[39m\u001B[38;5;124mMeeting\u001B[39m\u001B[38;5;124m'\u001B[39m][\u001B[38;5;124m'\u001B[39m\u001B[38;5;124mCircuit\u001B[39m\u001B[38;5;124m'\u001B[39m][\u001B[38;5;124m'\u001B[39m\u001B[38;5;124mKey\u001B[39m\u001B[38;5;124m'\u001B[39m]\n\u001B[1;32m   2210\u001B[0m     circuit_info \u001B[38;5;241m=\u001B[39m get_circuit_info(year\u001B[38;5;241m=\u001B[39m\u001B[38;5;28mself\u001B[39m\u001B[38;5;241m.\u001B[39mevent\u001B[38;5;241m.\u001B[39myear,\n\u001B[1;32m   2211\u001B[0m                                     circuit_key\u001B[38;5;241m=\u001B[39mcircuit_key)\n\u001B[1;32m   2212\u001B[0m     circuit_info\u001B[38;5;241m.\u001B[39madd_marker_distance(\n\u001B[1;32m   2213\u001B[0m         reference_lap\u001B[38;5;241m=\u001B[39m\u001B[38;5;28mself\u001B[39m\u001B[38;5;241m.\u001B[39mlaps\u001B[38;5;241m.\u001B[39mpick_fastest()\n\u001B[1;32m   2214\u001B[0m     )\n",
      "File \u001B[0;32m~/Documenti/GitHub/RapidF1/venv/lib/python3.10/site-packages/fastf1/core.py:1080\u001B[0m, in \u001B[0;36mSession.session_info\u001B[0;34m(self)\u001B[0m\n\u001B[1;32m   1070\u001B[0m \u001B[38;5;129m@property\u001B[39m\n\u001B[1;32m   1071\u001B[0m \u001B[38;5;28;01mdef\u001B[39;00m \u001B[38;5;21msession_info\u001B[39m(\u001B[38;5;28mself\u001B[39m) \u001B[38;5;241m-\u001B[39m\u001B[38;5;241m>\u001B[39m \u001B[38;5;28mdict\u001B[39m:\n\u001B[1;32m   1072\u001B[0m \u001B[38;5;250m    \u001B[39m\u001B[38;5;124;03m\"\"\"Session information including meeting, session, country and circuit\u001B[39;00m\n\u001B[1;32m   1073\u001B[0m \u001B[38;5;124;03m    names and id keys.\u001B[39;00m\n\u001B[1;32m   1074\u001B[0m \n\u001B[0;32m   (...)\u001B[0m\n\u001B[1;32m   1078\u001B[0m \u001B[38;5;124;03m    endpoint of the F1 livetiming API.)\u001B[39;00m\n\u001B[1;32m   1079\u001B[0m \u001B[38;5;124;03m    \"\"\"\u001B[39;00m\n\u001B[0;32m-> 1080\u001B[0m     \u001B[38;5;28;01mreturn\u001B[39;00m \u001B[38;5;28;43mself\u001B[39;49m\u001B[38;5;241;43m.\u001B[39;49m\u001B[43m_get_property_warn_not_loaded\u001B[49m\u001B[43m(\u001B[49m\u001B[38;5;124;43m'\u001B[39;49m\u001B[38;5;124;43m_session_info\u001B[39;49m\u001B[38;5;124;43m'\u001B[39;49m\u001B[43m)\u001B[49m\n",
      "File \u001B[0;32m~/Documenti/GitHub/RapidF1/venv/lib/python3.10/site-packages/fastf1/core.py:1066\u001B[0m, in \u001B[0;36mSession._get_property_warn_not_loaded\u001B[0;34m(self, name)\u001B[0m\n\u001B[1;32m   1064\u001B[0m \u001B[38;5;28;01mdef\u001B[39;00m \u001B[38;5;21m_get_property_warn_not_loaded\u001B[39m(\u001B[38;5;28mself\u001B[39m, name):\n\u001B[1;32m   1065\u001B[0m     \u001B[38;5;28;01mif\u001B[39;00m \u001B[38;5;129;01mnot\u001B[39;00m \u001B[38;5;28mhasattr\u001B[39m(\u001B[38;5;28mself\u001B[39m, name):\n\u001B[0;32m-> 1066\u001B[0m         \u001B[38;5;28;01mraise\u001B[39;00m DataNotLoadedError(\u001B[38;5;124m\"\u001B[39m\u001B[38;5;124mThe data you are trying to access has not \u001B[39m\u001B[38;5;124m\"\u001B[39m\n\u001B[1;32m   1067\u001B[0m                                  \u001B[38;5;124m\"\u001B[39m\u001B[38;5;124mbeen loaded yet. See `Session.load`\u001B[39m\u001B[38;5;124m\"\u001B[39m)\n\u001B[1;32m   1068\u001B[0m     \u001B[38;5;28;01mreturn\u001B[39;00m \u001B[38;5;28mgetattr\u001B[39m(\u001B[38;5;28mself\u001B[39m, name, \u001B[38;5;28;01mNone\u001B[39;00m)\n",
      "\u001B[0;31mDataNotLoadedError\u001B[0m: The data you are trying to access has not been loaded yet. See `Session.load`"
     ]
    }
   ],
   "source": [
    "import fastf1\n",
    "\n",
    "session_data = fastf1.get_session(2018, 1, 'R')\n",
    "session_data.load(laps=True, telemetry=True, weather=True, messages=True, livedata=True)\n",
    "\n",
    "circuit_data_Data = session_data.get_circuit_info()\n",
    "marshal_lights_data = circuit_data_Data.marshal_lights\n",
    "print(marshal_lights_data)"
   ]
  }
 ],
 "metadata": {
  "kernelspec": {
   "display_name": "Python 3",
   "language": "python",
   "name": "python3"
  },
  "language_info": {
   "codemirror_mode": {
    "name": "ipython",
    "version": 2
   },
   "file_extension": ".py",
   "mimetype": "text/x-python",
   "name": "python",
   "nbconvert_exporter": "python",
   "pygments_lexer": "ipython2",
   "version": "2.7.6"
  }
 },
 "nbformat": 4,
 "nbformat_minor": 5
}
